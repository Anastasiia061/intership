{
  "nbformat": 4,
  "nbformat_minor": 0,
  "metadata": {
    "colab": {
      "name": "Pytorch.ipynb",
      "provenance": [],
      "collapsed_sections": []
    },
    "kernelspec": {
      "name": "python3",
      "display_name": "Python 3"
    },
    "accelerator": "GPU"
  },
  "cells": [
    {
      "cell_type": "code",
      "metadata": {
        "id": "AF2zzT2mJAps",
        "colab_type": "code",
        "colab": {}
      },
      "source": [
        "# Задание 1\n",
        "def findMaxsubArray(nums):\n",
        "  ans = nums[0]\n",
        "  index_left, index_right = 0, 0\n",
        "  summ, min_summ = 0, 0\n",
        "  min_pos = -1\n",
        "  current = 0\n",
        "  for i in range (1,len(nums)):\n",
        "    summ += nums[i]\n",
        "    current = summ - min_summ\n",
        "    if current > ans:\n",
        "      ans = current\n",
        "      index_left = min_pos + 1\n",
        "      index_right = i\n",
        "    if summ < min_summ:\n",
        "      min_summ = summ\n",
        "      min_pos = i\n",
        "  return nums[index_left:index_right+1]"
      ],
      "execution_count": null,
      "outputs": []
    },
    {
      "cell_type": "code",
      "metadata": {
        "id": "ngNmjPyLM04_",
        "colab_type": "code",
        "colab": {
          "base_uri": "https://localhost:8080/",
          "height": 34
        },
        "outputId": "32a9a704-e375-4212-f2df-e74c05ecc672"
      },
      "source": [
        "A = [-2,1,-3,4,-1,2,1,-5,4]\n",
        "findMaxsubArray(A)"
      ],
      "execution_count": null,
      "outputs": [
        {
          "output_type": "execute_result",
          "data": {
            "text/plain": [
              "[4, -1, 2, 1]"
            ]
          },
          "metadata": {
            "tags": []
          },
          "execution_count": 59
        }
      ]
    },
    {
      "cell_type": "code",
      "metadata": {
        "id": "6VRoHxdz5ZhW",
        "colab_type": "code",
        "colab": {}
      },
      "source": [
        ""
      ],
      "execution_count": null,
      "outputs": []
    },
    {
      "cell_type": "code",
      "metadata": {
        "id": "IqvDeOX3ZLml",
        "colab_type": "code",
        "colab": {}
      },
      "source": [
        ""
      ],
      "execution_count": null,
      "outputs": []
    },
    {
      "cell_type": "code",
      "metadata": {
        "id": "ExHJUttoZLqe",
        "colab_type": "code",
        "colab": {}
      },
      "source": [
        ""
      ],
      "execution_count": null,
      "outputs": []
    },
    {
      "cell_type": "code",
      "metadata": {
        "id": "leOwlYhyZLj1",
        "colab_type": "code",
        "colab": {}
      },
      "source": [
        "# Задание 2"
      ],
      "execution_count": null,
      "outputs": []
    },
    {
      "cell_type": "code",
      "metadata": {
        "id": "pHglFi265ZUf",
        "colab_type": "code",
        "colab": {}
      },
      "source": [
        "import numpy as np \n",
        "import pandas as pd\n",
        "import os\n",
        "from tqdm import tqdm_notebook as tqdm\n",
        "from sklearn.preprocessing import LabelEncoder\n",
        "from PIL import Image\n",
        "import matplotlib.pyplot as plt\n",
        "import torch\n",
        "import torch.nn as nn\n",
        "import torch.nn.functional as F\n",
        "import torch.optim as optim\n",
        "from torch.utils.data.sampler import SubsetRandomSampler\n",
        "from torch.utils.data import Dataset\n",
        "import torchvision\n",
        "import torchvision.transforms as transforms"
      ],
      "execution_count": 3,
      "outputs": []
    },
    {
      "cell_type": "code",
      "metadata": {
        "id": "KkFn6hXp5ZOu",
        "colab_type": "code",
        "colab": {
          "base_uri": "https://localhost:8080/",
          "height": 34
        },
        "outputId": "183add9c-2d91-4cd5-d16d-6eaa252f0520"
      },
      "source": [
        "# имопортируем гугл диск - там находится датасет\n",
        "from google.colab import drive\n",
        "drive.mount('/content/drive/')"
      ],
      "execution_count": 4,
      "outputs": [
        {
          "output_type": "stream",
          "text": [
            "Mounted at /content/drive/\n"
          ],
          "name": "stdout"
        }
      ]
    },
    {
      "cell_type": "code",
      "metadata": {
        "id": "VMp5SMRM_5rM",
        "colab_type": "code",
        "colab": {
          "base_uri": "https://localhost:8080/",
          "height": 136
        },
        "outputId": "d73b2080-de7c-4cb8-e07d-78d281b959a5"
      },
      "source": [
        "# посмотрим структуру папок\n",
        "P='/content/drive/My Drive/Intership/'\n",
        "M='/content/drive/My Drive/Intership/male'\n",
        "F='/content/drive/My Drive/Intership/female'\n",
        "for dirs,folder,files in os.walk(M):\n",
        "  print (len(files))\n",
        "for dirs,folder,files in os.walk(P):\n",
        "  print (len(files)) \n",
        "  print (dirs)"
      ],
      "execution_count": 7,
      "outputs": [
        {
          "output_type": "stream",
          "text": [
            "50001\n",
            "0\n",
            "/content/drive/My Drive/Intership/\n",
            "50001\n",
            "/content/drive/My Drive/Intership/female\n",
            "50001\n",
            "/content/drive/My Drive/Intership/male\n"
          ],
          "name": "stdout"
        }
      ]
    },
    {
      "cell_type": "code",
      "metadata": {
        "id": "-k3LQ2kTZOVm",
        "colab_type": "code",
        "colab": {}
      },
      "source": [
        "# выберем все файлы формата jpg и создадим датафрейм из имен файлов с указанием пола\n",
        "import glob\n",
        "Files= glob.glob('/content/drive/My Drive/Intership/*/*.jpg')\n",
        "correct_filenames, genders= [], []\n",
        "for filename in Files:\n",
        "    _,_,_,_,_, gender, name = filename.split('/')\n",
        "    correct_filenames.append(name)\n",
        "    genders.append(gender)\n",
        "\n",
        "data = {\"img_name\": correct_filenames, \n",
        "        \"gender\": genders}\n",
        "df = pd.DataFrame(data)"
      ],
      "execution_count": 102,
      "outputs": []
    },
    {
      "cell_type": "code",
      "metadata": {
        "id": "Rc49DBy7ZhDl",
        "colab_type": "code",
        "colab": {
          "base_uri": "https://localhost:8080/",
          "height": 204
        },
        "outputId": "784bf2df-4789-46f4-9c4f-e02357949dd7"
      },
      "source": [
        "# используем LabelEncoder для кодирования пола\n",
        "from sklearn.preprocessing import LabelEncoder\n",
        "\n",
        "lb = LabelEncoder()\n",
        "df['encoded_labels'] = lb.fit_transform(df['gender'])\n",
        "df.head(5) "
      ],
      "execution_count": 103,
      "outputs": [
        {
          "output_type": "execute_result",
          "data": {
            "text/html": [
              "<div>\n",
              "<style scoped>\n",
              "    .dataframe tbody tr th:only-of-type {\n",
              "        vertical-align: middle;\n",
              "    }\n",
              "\n",
              "    .dataframe tbody tr th {\n",
              "        vertical-align: top;\n",
              "    }\n",
              "\n",
              "    .dataframe thead th {\n",
              "        text-align: right;\n",
              "    }\n",
              "</style>\n",
              "<table border=\"1\" class=\"dataframe\">\n",
              "  <thead>\n",
              "    <tr style=\"text-align: right;\">\n",
              "      <th></th>\n",
              "      <th>img_name</th>\n",
              "      <th>gender</th>\n",
              "      <th>encoded_labels</th>\n",
              "    </tr>\n",
              "  </thead>\n",
              "  <tbody>\n",
              "    <tr>\n",
              "      <th>0</th>\n",
              "      <td>081688.jpg</td>\n",
              "      <td>female</td>\n",
              "      <td>0</td>\n",
              "    </tr>\n",
              "    <tr>\n",
              "      <th>1</th>\n",
              "      <td>081699.jpg</td>\n",
              "      <td>female</td>\n",
              "      <td>0</td>\n",
              "    </tr>\n",
              "    <tr>\n",
              "      <th>2</th>\n",
              "      <td>081689.jpg</td>\n",
              "      <td>female</td>\n",
              "      <td>0</td>\n",
              "    </tr>\n",
              "    <tr>\n",
              "      <th>3</th>\n",
              "      <td>081692.jpg</td>\n",
              "      <td>female</td>\n",
              "      <td>0</td>\n",
              "    </tr>\n",
              "    <tr>\n",
              "      <th>4</th>\n",
              "      <td>081691.jpg</td>\n",
              "      <td>female</td>\n",
              "      <td>0</td>\n",
              "    </tr>\n",
              "  </tbody>\n",
              "</table>\n",
              "</div>"
            ],
            "text/plain": [
              "     img_name  gender  encoded_labels\n",
              "0  081688.jpg  female               0\n",
              "1  081699.jpg  female               0\n",
              "2  081689.jpg  female               0\n",
              "3  081692.jpg  female               0\n",
              "4  081691.jpg  female               0"
            ]
          },
          "metadata": {
            "tags": []
          },
          "execution_count": 103
        }
      ]
    },
    {
      "cell_type": "code",
      "metadata": {
        "id": "_v6K7ocsZObv",
        "colab_type": "code",
        "colab": {
          "base_uri": "https://localhost:8080/",
          "height": 187
        },
        "outputId": "4e57bd4a-0f68-49ed-fb49-ee7fa8788601"
      },
      "source": [
        "df.info()"
      ],
      "execution_count": 104,
      "outputs": [
        {
          "output_type": "stream",
          "text": [
            "<class 'pandas.core.frame.DataFrame'>\n",
            "RangeIndex: 100002 entries, 0 to 100001\n",
            "Data columns (total 3 columns):\n",
            " #   Column          Non-Null Count   Dtype \n",
            "---  ------          --------------   ----- \n",
            " 0   img_name        100002 non-null  object\n",
            " 1   gender          100002 non-null  object\n",
            " 2   encoded_labels  100002 non-null  int64 \n",
            "dtypes: int64(1), object(2)\n",
            "memory usage: 2.3+ MB\n"
          ],
          "name": "stdout"
        }
      ]
    },
    {
      "cell_type": "code",
      "metadata": {
        "id": "uTtGfEwpHWv6",
        "colab_type": "code",
        "colab": {
          "base_uri": "https://localhost:8080/",
          "height": 34
        },
        "outputId": "90d0a713-0148-4f98-ebdc-d4170c777218"
      },
      "source": [
        "# выберем устройство\n",
        "torch.cuda.current_device()\n",
        "device = torch.device(\"cuda:0\" if torch.cuda.is_available() else \"cpu\")\n",
        "print(device)"
      ],
      "execution_count": 24,
      "outputs": [
        {
          "output_type": "stream",
          "text": [
            "cuda:0\n"
          ],
          "name": "stdout"
        }
      ]
    },
    {
      "cell_type": "code",
      "metadata": {
        "id": "m2qkFRw4nWdu",
        "colab_type": "code",
        "colab": {}
      },
      "source": [
        "# трансформируем изображения, используя Compose и приведем к формату torch.FloatTensor\n",
        "transform = transforms.Compose([\n",
        "        transforms.RandomRotation(5),\n",
        "        transforms.RandomHorizontalFlip(),\n",
        "        transforms.RandomResizedCrop(224, scale=(0.96, 1.0), ratio=(0.95, 1.05)),\n",
        "        transforms.ToTensor(), transforms.Normalize([0.485, 0.456, 0.406], [0.229, 0.224, 0.225])])"
      ],
      "execution_count": 29,
      "outputs": []
    },
    {
      "cell_type": "code",
      "metadata": {
        "id": "Jt5hLgUVTxZr",
        "colab_type": "code",
        "colab": {
          "base_uri": "https://localhost:8080/",
          "height": 136
        },
        "outputId": "44325ccb-df09-442c-8bef-e1914e0402a9"
      },
      "source": [
        "transform"
      ],
      "execution_count": 30,
      "outputs": [
        {
          "output_type": "execute_result",
          "data": {
            "text/plain": [
              "Compose(\n",
              "    RandomRotation(degrees=(-5, 5), resample=False, expand=False)\n",
              "    RandomHorizontalFlip(p=0.5)\n",
              "    RandomResizedCrop(size=(224, 224), scale=(0.96, 1.0), ratio=(0.95, 1.05), interpolation=PIL.Image.BILINEAR)\n",
              "    ToTensor()\n",
              "    Normalize(mean=[0.485, 0.456, 0.406], std=[0.229, 0.224, 0.225])\n",
              ")"
            ]
          },
          "metadata": {
            "tags": []
          },
          "execution_count": 30
        }
      ]
    },
    {
      "cell_type": "code",
      "metadata": {
        "id": "aiBOl3fY9Z8S",
        "colab_type": "code",
        "colab": {
          "base_uri": "https://localhost:8080/",
          "height": 34
        },
        "outputId": "2d5bfbd3-b2bb-4ba3-f9b7-7efeea6cf734"
      },
      "source": [
        "# подготовим Dataset для дальнейшей работы с применением трансформации\n",
        "from torch.utils.data import Dataset\n",
        "import torch\n",
        "\n",
        "class TESNamesDataset(Dataset):\n",
        "     def __init__(self, df, data_root,transform=None):\n",
        "        self.data_root = data_root\n",
        "        self.transform = transform\n",
        "        self.df = df\n",
        "      \n",
        "     def __len__(self):\n",
        "        return len(self.df)\n",
        "    \n",
        "     def __getitem__(self, index):\n",
        "       i_name = os.path.join(self.data_root, self.df.loc[index, 'gender'], self.df.loc[index, 'img_name'])\n",
        "       image = Image.open(i_name)\n",
        "       image = image.resize((300,300))\n",
        "       label = torch.tensor(self.df.loc[index, 'encoded_labels'])\n",
        "       if self.transform is not None:\n",
        "         image = self.transform(image)\n",
        "       return image,  label\n",
        "\n",
        "\n",
        "\n",
        "data_root = '/content/drive/My Drive/Intership/'\n",
        "dataset = TESNamesDataset(df, data_root, transform)\n",
        "print(len(dataset))"
      ],
      "execution_count": 31,
      "outputs": [
        {
          "output_type": "stream",
          "text": [
            "100002\n"
          ],
          "name": "stdout"
        }
      ]
    },
    {
      "cell_type": "code",
      "metadata": {
        "id": "jzqTyOIK9yHb",
        "colab_type": "code",
        "colab": {}
      },
      "source": [
        "# разделим датасет на тренировочную и тестовую выборки\n",
        "batch_size = 128\n",
        "validation_split = .3\n",
        "shuffle_dataset = True\n",
        "\n",
        "\n",
        "dataset_size = len(df)\n",
        "indices = list(range(dataset_size))\n",
        "split = int(np.floor(validation_split * dataset_size))\n",
        "if shuffle_dataset :\n",
        "    np.random.seed(42)\n",
        "    np.random.shuffle(indices)\n",
        "train_indices, val_indices = indices[split:], indices[:split]"
      ],
      "execution_count": 32,
      "outputs": []
    },
    {
      "cell_type": "code",
      "metadata": {
        "id": "DMvbuKDs9yD7",
        "colab_type": "code",
        "colab": {}
      },
      "source": [
        "train_sampler = SubsetRandomSampler(train_indices)\n",
        "valid_sampler = SubsetRandomSampler(val_indices)"
      ],
      "execution_count": 33,
      "outputs": []
    },
    {
      "cell_type": "code",
      "metadata": {
        "id": "z9TiDF8v9ab3",
        "colab_type": "code",
        "colab": {}
      },
      "source": [
        "train_loader = torch.utils.data.DataLoader(dataset, batch_size=batch_size, \n",
        "                                           sampler=train_sampler, num_workers=4)\n",
        "validation_loader = torch.utils.data.DataLoader(dataset, batch_size=batch_size,\n",
        "                                                sampler=valid_sampler, num_workers=4)"
      ],
      "execution_count": 34,
      "outputs": []
    },
    {
      "cell_type": "code",
      "metadata": {
        "id": "lLjYxcz79agW",
        "colab_type": "code",
        "colab": {}
      },
      "source": [
        ""
      ],
      "execution_count": null,
      "outputs": []
    },
    {
      "cell_type": "code",
      "metadata": {
        "id": "EkXn2EA49aWI",
        "colab_type": "code",
        "colab": {}
      },
      "source": [
        ""
      ],
      "execution_count": null,
      "outputs": []
    },
    {
      "cell_type": "code",
      "metadata": {
        "id": "xtqspgYxYVtr",
        "colab_type": "code",
        "colab": {
          "base_uri": "https://localhost:8080/",
          "height": 303
        },
        "outputId": "b498f2e7-21ac-45ec-c88c-074b91ee5848"
      },
      "source": [
        "# посмотрим на случайные изображения из сформированного train_loader \n",
        "dataiter = iter(train_loader)\n",
        "images, labels = dataiter.next()\n",
        "gender_mapping = {0: 'Female', 1: 'Male'}\n",
        "image, label = images[0], labels[0]\n",
        "image = image / 2 + 0.5     npimg = image.numpy()\n",
        "npimg = np.transpose(npimg, (1, 2, 0))\n",
        "plt.imshow(npimg)\n",
        "print (gender_mapping[label.item()]) "
      ],
      "execution_count": 35,
      "outputs": [
        {
          "output_type": "stream",
          "text": [
            "Clipping input data to the valid range for imshow with RGB data ([0..1] for floats or [0..255] for integers).\n"
          ],
          "name": "stderr"
        },
        {
          "output_type": "stream",
          "text": [
            "Male\n"
          ],
          "name": "stdout"
        },
        {
          "output_type": "display_data",
          "data": {
            "image/png": "[encoded data removed]",
            "text/plain": [
              "<Figure size 432x288 with 1 Axes>"
            ]
          },
          "metadata": {
            "tags": [],
            "needs_background": "light"
          }
        }
      ]
    },
    {
      "cell_type": "code",
      "metadata": {
        "id": "suXN1iKm34bx",
        "colab_type": "code",
        "colab": {}
      },
      "source": [
        "#  для классификации  загрузим  и используем модель resnet50\n",
        "model_conv = torchvision.models.resnet50(pretrained=True)"
      ],
      "execution_count": 39,
      "outputs": []
    },
    {
      "cell_type": "code",
      "metadata": {
        "id": "1c6eLbEf6JN3",
        "colab_type": "code",
        "colab": {
          "base_uri": "https://localhost:8080/",
          "height": 1000
        },
        "outputId": "dfe85a24-270b-486b-b206-79d04de01b68"
      },
      "source": [
        "model_conv = model_conv.to(device)  # On GPU\n",
        "print(model_conv)"
      ],
      "execution_count": 40,
      "outputs": [
        {
          "output_type": "stream",
          "text": [
            "ResNet(\n",
            "  (conv1): Conv2d(3, 64, kernel_size=(7, 7), stride=(2, 2), padding=(3, 3), bias=False)\n",
            "  (bn1): BatchNorm2d(64, eps=1e-05, momentum=0.1, affine=True, track_running_stats=True)\n",
            "  (relu): ReLU(inplace=True)\n",
            "  (maxpool): MaxPool2d(kernel_size=3, stride=2, padding=1, dilation=1, ceil_mode=False)\n",
            "  (layer1): Sequential(\n",
            "    (0): Bottleneck(\n",
            "      (conv1): Conv2d(64, 64, kernel_size=(1, 1), stride=(1, 1), bias=False)\n",
            "      (bn1): BatchNorm2d(64, eps=1e-05, momentum=0.1, affine=True, track_running_stats=True)\n",
            "      (conv2): Conv2d(64, 64, kernel_size=(3, 3), stride=(1, 1), padding=(1, 1), bias=False)\n",
            "      (bn2): BatchNorm2d(64, eps=1e-05, momentum=0.1, affine=True, track_running_stats=True)\n",
            "      (conv3): Conv2d(64, 256, kernel_size=(1, 1), stride=(1, 1), bias=False)\n",
            "      (bn3): BatchNorm2d(256, eps=1e-05, momentum=0.1, affine=True, track_running_stats=True)\n",
            "      (relu): ReLU(inplace=True)\n",
            "      (downsample): Sequential(\n",
            "        (0): Conv2d(64, 256, kernel_size=(1, 1), stride=(1, 1), bias=False)\n",
            "        (1): BatchNorm2d(256, eps=1e-05, momentum=0.1, affine=True, track_running_stats=True)\n",
            "      )\n",
            "    )\n",
            "    (1): Bottleneck(\n",
            "      (conv1): Conv2d(256, 64, kernel_size=(1, 1), stride=(1, 1), bias=False)\n",
            "      (bn1): BatchNorm2d(64, eps=1e-05, momentum=0.1, affine=True, track_running_stats=True)\n",
            "      (conv2): Conv2d(64, 64, kernel_size=(3, 3), stride=(1, 1), padding=(1, 1), bias=False)\n",
            "      (bn2): BatchNorm2d(64, eps=1e-05, momentum=0.1, affine=True, track_running_stats=True)\n",
            "      (conv3): Conv2d(64, 256, kernel_size=(1, 1), stride=(1, 1), bias=False)\n",
            "      (bn3): BatchNorm2d(256, eps=1e-05, momentum=0.1, affine=True, track_running_stats=True)\n",
            "      (relu): ReLU(inplace=True)\n",
            "    )\n",
            "    (2): Bottleneck(\n",
            "      (conv1): Conv2d(256, 64, kernel_size=(1, 1), stride=(1, 1), bias=False)\n",
            "      (bn1): BatchNorm2d(64, eps=1e-05, momentum=0.1, affine=True, track_running_stats=True)\n",
            "      (conv2): Conv2d(64, 64, kernel_size=(3, 3), stride=(1, 1), padding=(1, 1), bias=False)\n",
            "      (bn2): BatchNorm2d(64, eps=1e-05, momentum=0.1, affine=True, track_running_stats=True)\n",
            "      (conv3): Conv2d(64, 256, kernel_size=(1, 1), stride=(1, 1), bias=False)\n",
            "      (bn3): BatchNorm2d(256, eps=1e-05, momentum=0.1, affine=True, track_running_stats=True)\n",
            "      (relu): ReLU(inplace=True)\n",
            "    )\n",
            "  )\n",
            "  (layer2): Sequential(\n",
            "    (0): Bottleneck(\n",
            "      (conv1): Conv2d(256, 128, kernel_size=(1, 1), stride=(1, 1), bias=False)\n",
            "      (bn1): BatchNorm2d(128, eps=1e-05, momentum=0.1, affine=True, track_running_stats=True)\n",
            "      (conv2): Conv2d(128, 128, kernel_size=(3, 3), stride=(2, 2), padding=(1, 1), bias=False)\n",
            "      (bn2): BatchNorm2d(128, eps=1e-05, momentum=0.1, affine=True, track_running_stats=True)\n",
            "      (conv3): Conv2d(128, 512, kernel_size=(1, 1), stride=(1, 1), bias=False)\n",
            "      (bn3): BatchNorm2d(512, eps=1e-05, momentum=0.1, affine=True, track_running_stats=True)\n",
            "      (relu): ReLU(inplace=True)\n",
            "      (downsample): Sequential(\n",
            "        (0): Conv2d(256, 512, kernel_size=(1, 1), stride=(2, 2), bias=False)\n",
            "        (1): BatchNorm2d(512, eps=1e-05, momentum=0.1, affine=True, track_running_stats=True)\n",
            "      )\n",
            "    )\n",
            "    (1): Bottleneck(\n",
            "      (conv1): Conv2d(512, 128, kernel_size=(1, 1), stride=(1, 1), bias=False)\n",
            "      (bn1): BatchNorm2d(128, eps=1e-05, momentum=0.1, affine=True, track_running_stats=True)\n",
            "      (conv2): Conv2d(128, 128, kernel_size=(3, 3), stride=(1, 1), padding=(1, 1), bias=False)\n",
            "      (bn2): BatchNorm2d(128, eps=1e-05, momentum=0.1, affine=True, track_running_stats=True)\n",
            "      (conv3): Conv2d(128, 512, kernel_size=(1, 1), stride=(1, 1), bias=False)\n",
            "      (bn3): BatchNorm2d(512, eps=1e-05, momentum=0.1, affine=True, track_running_stats=True)\n",
            "      (relu): ReLU(inplace=True)\n",
            "    )\n",
            "    (2): Bottleneck(\n",
            "      (conv1): Conv2d(512, 128, kernel_size=(1, 1), stride=(1, 1), bias=False)\n",
            "      (bn1): BatchNorm2d(128, eps=1e-05, momentum=0.1, affine=True, track_running_stats=True)\n",
            "      (conv2): Conv2d(128, 128, kernel_size=(3, 3), stride=(1, 1), padding=(1, 1), bias=False)\n",
            "      (bn2): BatchNorm2d(128, eps=1e-05, momentum=0.1, affine=True, track_running_stats=True)\n",
            "      (conv3): Conv2d(128, 512, kernel_size=(1, 1), stride=(1, 1), bias=False)\n",
            "      (bn3): BatchNorm2d(512, eps=1e-05, momentum=0.1, affine=True, track_running_stats=True)\n",
            "      (relu): ReLU(inplace=True)\n",
            "    )\n",
            "    (3): Bottleneck(\n",
            "      (conv1): Conv2d(512, 128, kernel_size=(1, 1), stride=(1, 1), bias=False)\n",
            "      (bn1): BatchNorm2d(128, eps=1e-05, momentum=0.1, affine=True, track_running_stats=True)\n",
            "      (conv2): Conv2d(128, 128, kernel_size=(3, 3), stride=(1, 1), padding=(1, 1), bias=False)\n",
            "      (bn2): BatchNorm2d(128, eps=1e-05, momentum=0.1, affine=True, track_running_stats=True)\n",
            "      (conv3): Conv2d(128, 512, kernel_size=(1, 1), stride=(1, 1), bias=False)\n",
            "      (bn3): BatchNorm2d(512, eps=1e-05, momentum=0.1, affine=True, track_running_stats=True)\n",
            "      (relu): ReLU(inplace=True)\n",
            "    )\n",
            "  )\n",
            "  (layer3): Sequential(\n",
            "    (0): Bottleneck(\n",
            "      (conv1): Conv2d(512, 256, kernel_size=(1, 1), stride=(1, 1), bias=False)\n",
            "      (bn1): BatchNorm2d(256, eps=1e-05, momentum=0.1, affine=True, track_running_stats=True)\n",
            "      (conv2): Conv2d(256, 256, kernel_size=(3, 3), stride=(2, 2), padding=(1, 1), bias=False)\n",
            "      (bn2): BatchNorm2d(256, eps=1e-05, momentum=0.1, affine=True, track_running_stats=True)\n",
            "      (conv3): Conv2d(256, 1024, kernel_size=(1, 1), stride=(1, 1), bias=False)\n",
            "      (bn3): BatchNorm2d(1024, eps=1e-05, momentum=0.1, affine=True, track_running_stats=True)\n",
            "      (relu): ReLU(inplace=True)\n",
            "      (downsample): Sequential(\n",
            "        (0): Conv2d(512, 1024, kernel_size=(1, 1), stride=(2, 2), bias=False)\n",
            "        (1): BatchNorm2d(1024, eps=1e-05, momentum=0.1, affine=True, track_running_stats=True)\n",
            "      )\n",
            "    )\n",
            "    (1): Bottleneck(\n",
            "      (conv1): Conv2d(1024, 256, kernel_size=(1, 1), stride=(1, 1), bias=False)\n",
            "      (bn1): BatchNorm2d(256, eps=1e-05, momentum=0.1, affine=True, track_running_stats=True)\n",
            "      (conv2): Conv2d(256, 256, kernel_size=(3, 3), stride=(1, 1), padding=(1, 1), bias=False)\n",
            "      (bn2): BatchNorm2d(256, eps=1e-05, momentum=0.1, affine=True, track_running_stats=True)\n",
            "      (conv3): Conv2d(256, 1024, kernel_size=(1, 1), stride=(1, 1), bias=False)\n",
            "      (bn3): BatchNorm2d(1024, eps=1e-05, momentum=0.1, affine=True, track_running_stats=True)\n",
            "      (relu): ReLU(inplace=True)\n",
            "    )\n",
            "    (2): Bottleneck(\n",
            "      (conv1): Conv2d(1024, 256, kernel_size=(1, 1), stride=(1, 1), bias=False)\n",
            "      (bn1): BatchNorm2d(256, eps=1e-05, momentum=0.1, affine=True, track_running_stats=True)\n",
            "      (conv2): Conv2d(256, 256, kernel_size=(3, 3), stride=(1, 1), padding=(1, 1), bias=False)\n",
            "      (bn2): BatchNorm2d(256, eps=1e-05, momentum=0.1, affine=True, track_running_stats=True)\n",
            "      (conv3): Conv2d(256, 1024, kernel_size=(1, 1), stride=(1, 1), bias=False)\n",
            "      (bn3): BatchNorm2d(1024, eps=1e-05, momentum=0.1, affine=True, track_running_stats=True)\n",
            "      (relu): ReLU(inplace=True)\n",
            "    )\n",
            "    (3): Bottleneck(\n",
            "      (conv1): Conv2d(1024, 256, kernel_size=(1, 1), stride=(1, 1), bias=False)\n",
            "      (bn1): BatchNorm2d(256, eps=1e-05, momentum=0.1, affine=True, track_running_stats=True)\n",
            "      (conv2): Conv2d(256, 256, kernel_size=(3, 3), stride=(1, 1), padding=(1, 1), bias=False)\n",
            "      (bn2): BatchNorm2d(256, eps=1e-05, momentum=0.1, affine=True, track_running_stats=True)\n",
            "      (conv3): Conv2d(256, 1024, kernel_size=(1, 1), stride=(1, 1), bias=False)\n",
            "      (bn3): BatchNorm2d(1024, eps=1e-05, momentum=0.1, affine=True, track_running_stats=True)\n",
            "      (relu): ReLU(inplace=True)\n",
            "    )\n",
            "    (4): Bottleneck(\n",
            "      (conv1): Conv2d(1024, 256, kernel_size=(1, 1), stride=(1, 1), bias=False)\n",
            "      (bn1): BatchNorm2d(256, eps=1e-05, momentum=0.1, affine=True, track_running_stats=True)\n",
            "      (conv2): Conv2d(256, 256, kernel_size=(3, 3), stride=(1, 1), padding=(1, 1), bias=False)\n",
            "      (bn2): BatchNorm2d(256, eps=1e-05, momentum=0.1, affine=True, track_running_stats=True)\n",
            "      (conv3): Conv2d(256, 1024, kernel_size=(1, 1), stride=(1, 1), bias=False)\n",
            "      (bn3): BatchNorm2d(1024, eps=1e-05, momentum=0.1, affine=True, track_running_stats=True)\n",
            "      (relu): ReLU(inplace=True)\n",
            "    )\n",
            "    (5): Bottleneck(\n",
            "      (conv1): Conv2d(1024, 256, kernel_size=(1, 1), stride=(1, 1), bias=False)\n",
            "      (bn1): BatchNorm2d(256, eps=1e-05, momentum=0.1, affine=True, track_running_stats=True)\n",
            "      (conv2): Conv2d(256, 256, kernel_size=(3, 3), stride=(1, 1), padding=(1, 1), bias=False)\n",
            "      (bn2): BatchNorm2d(256, eps=1e-05, momentum=0.1, affine=True, track_running_stats=True)\n",
            "      (conv3): Conv2d(256, 1024, kernel_size=(1, 1), stride=(1, 1), bias=False)\n",
            "      (bn3): BatchNorm2d(1024, eps=1e-05, momentum=0.1, affine=True, track_running_stats=True)\n",
            "      (relu): ReLU(inplace=True)\n",
            "    )\n",
            "  )\n",
            "  (layer4): Sequential(\n",
            "    (0): Bottleneck(\n",
            "      (conv1): Conv2d(1024, 512, kernel_size=(1, 1), stride=(1, 1), bias=False)\n",
            "      (bn1): BatchNorm2d(512, eps=1e-05, momentum=0.1, affine=True, track_running_stats=True)\n",
            "      (conv2): Conv2d(512, 512, kernel_size=(3, 3), stride=(2, 2), padding=(1, 1), bias=False)\n",
            "      (bn2): BatchNorm2d(512, eps=1e-05, momentum=0.1, affine=True, track_running_stats=True)\n",
            "      (conv3): Conv2d(512, 2048, kernel_size=(1, 1), stride=(1, 1), bias=False)\n",
            "      (bn3): BatchNorm2d(2048, eps=1e-05, momentum=0.1, affine=True, track_running_stats=True)\n",
            "      (relu): ReLU(inplace=True)\n",
            "      (downsample): Sequential(\n",
            "        (0): Conv2d(1024, 2048, kernel_size=(1, 1), stride=(2, 2), bias=False)\n",
            "        (1): BatchNorm2d(2048, eps=1e-05, momentum=0.1, affine=True, track_running_stats=True)\n",
            "      )\n",
            "    )\n",
            "    (1): Bottleneck(\n",
            "      (conv1): Conv2d(2048, 512, kernel_size=(1, 1), stride=(1, 1), bias=False)\n",
            "      (bn1): BatchNorm2d(512, eps=1e-05, momentum=0.1, affine=True, track_running_stats=True)\n",
            "      (conv2): Conv2d(512, 512, kernel_size=(3, 3), stride=(1, 1), padding=(1, 1), bias=False)\n",
            "      (bn2): BatchNorm2d(512, eps=1e-05, momentum=0.1, affine=True, track_running_stats=True)\n",
            "      (conv3): Conv2d(512, 2048, kernel_size=(1, 1), stride=(1, 1), bias=False)\n",
            "      (bn3): BatchNorm2d(2048, eps=1e-05, momentum=0.1, affine=True, track_running_stats=True)\n",
            "      (relu): ReLU(inplace=True)\n",
            "    )\n",
            "    (2): Bottleneck(\n",
            "      (conv1): Conv2d(2048, 512, kernel_size=(1, 1), stride=(1, 1), bias=False)\n",
            "      (bn1): BatchNorm2d(512, eps=1e-05, momentum=0.1, affine=True, track_running_stats=True)\n",
            "      (conv2): Conv2d(512, 512, kernel_size=(3, 3), stride=(1, 1), padding=(1, 1), bias=False)\n",
            "      (bn2): BatchNorm2d(512, eps=1e-05, momentum=0.1, affine=True, track_running_stats=True)\n",
            "      (conv3): Conv2d(512, 2048, kernel_size=(1, 1), stride=(1, 1), bias=False)\n",
            "      (bn3): BatchNorm2d(2048, eps=1e-05, momentum=0.1, affine=True, track_running_stats=True)\n",
            "      (relu): ReLU(inplace=True)\n",
            "    )\n",
            "  )\n",
            "  (avgpool): AdaptiveAvgPool2d(output_size=(1, 1))\n",
            "  (fc): Linear(in_features=2048, out_features=1000, bias=True)\n",
            ")\n"
          ],
          "name": "stdout"
        }
      ]
    },
    {
      "cell_type": "code",
      "metadata": {
        "id": "ofDqblOUaG-l",
        "colab_type": "code",
        "colab": {}
      },
      "source": [
        "criterion = nn.CrossEntropyLoss().to(device)\n",
        "optimizer = optim.Adam(model_conv.parameters(), lr=0.0001)"
      ],
      "execution_count": 46,
      "outputs": []
    },
    {
      "cell_type": "code",
      "metadata": {
        "id": "vA4MPKM3Rfjz",
        "colab_type": "code",
        "colab": {}
      },
      "source": [
        "# функция для определения метрики accuracy\n",
        "def accuracy(out, labels):\n",
        "    _,pred = torch.max(out, dim=1)\n",
        "    return torch.sum(pred==labels).item()"
      ],
      "execution_count": 47,
      "outputs": []
    },
    {
      "cell_type": "code",
      "metadata": {
        "id": "enpJ6PpXRfrg",
        "colab_type": "code",
        "colab": {}
      },
      "source": [
        "# определим путь, где будем хранить лучшие показатели  модели\n",
        "from pathlib import Path\n",
        "path = Path(\"/content/drive/My Drive/model_gender_3\")\n",
        "path.mkdir(exist_ok=True, parents=True) # папка создается на вашем гугл диске. вместе с \"родителями\"\n",
        "assert path.exists()\n",
        "checkpoint_filename = \"current_checkpoint.pt\"  \n",
        "checkpoint_path =str(path / checkpoint_filename)"
      ],
      "execution_count": 48,
      "outputs": []
    },
    {
      "cell_type": "code",
      "metadata": {
        "id": "sGxlwSeuFNXZ",
        "colab_type": "code",
        "colab": {
          "base_uri": "https://localhost:8080/",
          "height": 1000
        },
        "outputId": "0bdd2b07-aa44-4516-81cc-26573c183da7"
      },
      "source": [
        "# тренируем модель\n",
        "import torch.nn.functional as F\n",
        "\n",
        "n_epochs = 2\n",
        "print_every = 50\n",
        "valid_loss_min = np.Inf\n",
        "val_loss = []\n",
        "val_acc = []\n",
        "train_loss = []\n",
        "train_acc = []\n",
        "total_step = len(train_loader)\n",
        "for epoch in range(1, n_epochs+1):\n",
        "    running_loss = 0.0\n",
        "    correct = 0\n",
        "    total=0\n",
        "    print(f'Epoch {epoch}\\n')\n",
        "    for batch_idx, (data_, target_) in enumerate(train_loader):\n",
        "        data_, target_ = data_.to(device), target_.to(device)# on GPU\n",
        "        # zero the parameter gradients\n",
        "        optimizer.zero_grad()\n",
        "        # forward + backward + optimize\n",
        "        outputs =  model_conv(data_)\n",
        "        loss = criterion(outputs, target_)\n",
        "        loss.backward()\n",
        "        optimizer.step()\n",
        "        running_loss += loss.item()\n",
        "        _,pred = torch.max(outputs, dim=1)\n",
        "        correct += torch.sum(pred==target_).item()\n",
        "        total += target_.size(0)\n",
        "        if (batch_idx) % 20 == 0:\n",
        "            print ('Epoch [{}/{}], Step [{}/{}], Loss: {:.4f}' \n",
        "                   .format(epoch, n_epochs, batch_idx, total_step, loss.item()))\n",
        "    train_acc.append(100 * correct / total)\n",
        "    train_loss.append(running_loss/total_step)\n",
        "    print(f'\\ntrain loss: {np.mean(train_loss):.4f}, train acc: {(100 * correct / total):.4f}')\n",
        "    batch_loss = 0\n",
        "    total_t=0\n",
        "    correct_t=0\n",
        "    with torch.no_grad():\n",
        "        model_conv.eval()\n",
        "        for data_t, target_t in (validation_loader):\n",
        "            data_t, target_t = data_t.to(device), target_t.to(device)# on GPU\n",
        "            outputs_t = model_conv(data_t)\n",
        "            loss_t = criterion(outputs_t, target_t)\n",
        "            batch_loss += loss_t.item()\n",
        "            _,pred_t = torch.max(outputs_t, dim=1)\n",
        "            correct_t += torch.sum(pred_t==target_t).item()\n",
        "            total_t += target_t.size(0)\n",
        "        val_acc.append(100 * correct_t / total_t)\n",
        "        val_loss.append(batch_loss/len(validation_loader))\n",
        "        network_learned = batch_loss < valid_loss_min\n",
        "        print(f'validation loss: {np.mean(val_loss):.4f}, validation acc: {(100 * correct_t / total_t):.4f}\\n')\n",
        "        #  сохраним лучшие веса PyTorch модели\n",
        "        if network_learned:\n",
        "          valid_loss_min = batch_loss\n",
        "          torch.save(model_conv.state_dict(), checkpoint_path)\n",
        "          print('Detected network improvement, saving current model')\n",
        "    model_conv.train()\n",
        "     "
      ],
      "execution_count": 49,
      "outputs": [
        {
          "output_type": "stream",
          "text": [
            "Epoch 1\n",
            "\n",
            "Epoch [1/2], Step [0/547], Loss: 0.6829\n",
            "Epoch [1/2], Step [20/547], Loss: 0.6453\n",
            "Epoch [1/2], Step [40/547], Loss: 0.5605\n",
            "Epoch [1/2], Step [60/547], Loss: 0.5498\n",
            "Epoch [1/2], Step [80/547], Loss: 0.5101\n",
            "Epoch [1/2], Step [100/547], Loss: 0.4867\n",
            "Epoch [1/2], Step [120/547], Loss: 0.4791\n",
            "Epoch [1/2], Step [140/547], Loss: 0.4391\n",
            "Epoch [1/2], Step [160/547], Loss: 0.4445\n",
            "Epoch [1/2], Step [180/547], Loss: 0.4387\n",
            "Epoch [1/2], Step [200/547], Loss: 0.4034\n",
            "Epoch [1/2], Step [220/547], Loss: 0.3645\n",
            "Epoch [1/2], Step [240/547], Loss: 0.4042\n",
            "Epoch [1/2], Step [260/547], Loss: 0.3881\n",
            "Epoch [1/2], Step [280/547], Loss: 0.3630\n",
            "Epoch [1/2], Step [300/547], Loss: 0.4035\n",
            "Epoch [1/2], Step [320/547], Loss: 0.3869\n",
            "Epoch [1/2], Step [340/547], Loss: 0.3554\n",
            "Epoch [1/2], Step [360/547], Loss: 0.3472\n",
            "Epoch [1/2], Step [380/547], Loss: 0.3680\n",
            "Epoch [1/2], Step [400/547], Loss: 0.3237\n",
            "Epoch [1/2], Step [420/547], Loss: 0.3279\n",
            "Epoch [1/2], Step [440/547], Loss: 0.4079\n",
            "Epoch [1/2], Step [460/547], Loss: 0.3362\n",
            "Epoch [1/2], Step [480/547], Loss: 0.3357\n",
            "Epoch [1/2], Step [500/547], Loss: 0.3326\n",
            "Epoch [1/2], Step [520/547], Loss: 0.3004\n",
            "Epoch [1/2], Step [540/547], Loss: 0.3787\n",
            "\n",
            "train loss: 0.4168, train acc: 83.8190\n",
            "validation loss: 0.3324, validation acc: 86.8300\n",
            "\n",
            "Detected network improvement, saving current model\n",
            "Epoch 2\n",
            "\n",
            "Epoch [2/2], Step [0/547], Loss: 0.3649\n",
            "Epoch [2/2], Step [20/547], Loss: 0.2956\n",
            "Epoch [2/2], Step [40/547], Loss: 0.3630\n",
            "Epoch [2/2], Step [60/547], Loss: 0.3630\n",
            "Epoch [2/2], Step [80/547], Loss: 0.3080\n",
            "Epoch [2/2], Step [100/547], Loss: 0.3511\n",
            "Epoch [2/2], Step [120/547], Loss: 0.3351\n",
            "Epoch [2/2], Step [140/547], Loss: 0.3570\n",
            "Epoch [2/2], Step [160/547], Loss: 0.3009\n",
            "Epoch [2/2], Step [180/547], Loss: 0.3247\n",
            "Epoch [2/2], Step [200/547], Loss: 0.3296\n",
            "Epoch [2/2], Step [220/547], Loss: 0.3914\n",
            "Epoch [2/2], Step [240/547], Loss: 0.3989\n",
            "Epoch [2/2], Step [260/547], Loss: 0.3612\n",
            "Epoch [2/2], Step [280/547], Loss: 0.3009\n",
            "Epoch [2/2], Step [300/547], Loss: 0.2597\n",
            "Epoch [2/2], Step [320/547], Loss: 0.3105\n",
            "Epoch [2/2], Step [340/547], Loss: 0.3321\n",
            "Epoch [2/2], Step [360/547], Loss: 0.3248\n",
            "Epoch [2/2], Step [380/547], Loss: 0.2946\n",
            "Epoch [2/2], Step [400/547], Loss: 0.3250\n",
            "Epoch [2/2], Step [420/547], Loss: 0.3710\n",
            "Epoch [2/2], Step [440/547], Loss: 0.2980\n",
            "Epoch [2/2], Step [460/547], Loss: 0.3757\n",
            "Epoch [2/2], Step [480/547], Loss: 0.3180\n",
            "Epoch [2/2], Step [500/547], Loss: 0.3029\n",
            "Epoch [2/2], Step [520/547], Loss: 0.3019\n",
            "Epoch [2/2], Step [540/547], Loss: 0.3003\n",
            "\n",
            "train loss: 0.3652, train acc: 87.3804\n",
            "validation loss: 0.3177, validation acc: 87.5933\n",
            "\n",
            "Detected network improvement, saving current model\n"
          ],
          "name": "stdout"
        }
      ]
    },
    {
      "cell_type": "code",
      "metadata": {
        "id": "THDXnhisjyA7",
        "colab_type": "code",
        "colab": {
          "base_uri": "https://localhost:8080/",
          "height": 34
        },
        "outputId": "dcd05749-b720-4042-ac6b-e8e0aa230fc7"
      },
      "source": [
        "# импортируем  обученную модель с лучшим лоссом\n",
        "model_conv.load_state_dict(torch.load(checkpoint_path))"
      ],
      "execution_count": 50,
      "outputs": [
        {
          "output_type": "execute_result",
          "data": {
            "text/plain": [
              "<All keys matched successfully>"
            ]
          },
          "metadata": {
            "tags": []
          },
          "execution_count": 50
        }
      ]
    },
    {
      "cell_type": "code",
      "metadata": {
        "id": "H1qkH61JUQ14",
        "colab_type": "code",
        "colab": {}
      },
      "source": [
        ""
      ],
      "execution_count": null,
      "outputs": []
    },
    {
      "cell_type": "code",
      "metadata": {
        "id": "Ui3h3pgYVVBQ",
        "colab_type": "code",
        "colab": {}
      },
      "source": [
        "# тестовый датасет из 14 случайных изображений (7 мужчин и 7 женщин)\n",
        "Files_test= glob.glob('/content/drive/My Drive/TEST/*/*.jpg')\n",
        "correct_filenames, genders= [], []\n",
        "for filename in Files_test:\n",
        "    _,_,_,_,_, gender, name = filename.split('/')\n",
        "    correct_filenames.append(name)\n",
        "    genders.append(gender)\n",
        "\n",
        "data_test = {\"img_name\": correct_filenames, \n",
        "        \"gender\": genders}\n",
        "df_test = pd.DataFrame(data_test)\n",
        "lb = LabelEncoder()\n",
        "df_test['encoded_labels'] = lb.fit_transform(df_test['gender'])"
      ],
      "execution_count": 91,
      "outputs": []
    },
    {
      "cell_type": "code",
      "metadata": {
        "id": "0qWYxYcVXbNb",
        "colab_type": "code",
        "colab": {}
      },
      "source": [
        "transform_test = transforms.Compose(\n",
        "    [transforms.ToTensor(),\n",
        "     transforms.Normalize((0.5, 0.5, 0.5), (0.5, 0.5, 0.5))])"
      ],
      "execution_count": 92,
      "outputs": []
    },
    {
      "cell_type": "code",
      "metadata": {
        "id": "0QzEOmLLWUpo",
        "colab_type": "code",
        "colab": {
          "base_uri": "https://localhost:8080/",
          "height": 34
        },
        "outputId": "f2fd4662-4985-4e65-ff4f-a9b684ba1560"
      },
      "source": [
        "data_root = '/content/drive/My Drive/TEST/'\n",
        "dataset_test = TESNamesDataset(df_test, data_root, transform_test)\n",
        "print(len(dataset_test))"
      ],
      "execution_count": 93,
      "outputs": [
        {
          "output_type": "stream",
          "text": [
            "14\n"
          ],
          "name": "stdout"
        }
      ]
    },
    {
      "cell_type": "code",
      "metadata": {
        "id": "8AG9lOGWWUje",
        "colab_type": "code",
        "colab": {}
      },
      "source": [
        "test_loader = torch.utils.data.DataLoader(dataset_test, batch_size=batch_size,\n",
        "                                               num_workers=4)"
      ],
      "execution_count": 94,
      "outputs": []
    },
    {
      "cell_type": "code",
      "metadata": {
        "id": "rkelD1udVU9a",
        "colab_type": "code",
        "colab": {}
      },
      "source": [
        "dataiter = iter(test_loader)\n",
        "images, labels = dataiter.next()\n",
        "pred, gender = [], []\n",
        "gender_mapping = {0: 'Female', 1: 'Male'}\n",
        "for i in range (len(dataset_test)):\n",
        "  image, label = images[i], labels[i]\n",
        "  with torch.no_grad():\n",
        "    model_conv.eval()\n",
        "    image = image / 2 + 0.5  \n",
        "    npimg = image.numpy()\n",
        "    npimg = np.transpose(npimg, (1, 2, 0))\n",
        "    image_tensor = image.unsqueeze_(0)\n",
        "    image_tensor = image_tensor.to(device)\n",
        "    output_ = model_conv(image_tensor)\n",
        "    output_ = output_.argmax()\n",
        "    k = output_.item()==label.item()\n",
        "    pred.append(k)\n",
        "    gender.append(gender_mapping[label.item()])"
      ],
      "execution_count": 95,
      "outputs": []
    },
    {
      "cell_type": "code",
      "metadata": {
        "id": "cnzJG5_5o0DA",
        "colab_type": "code",
        "colab": {}
      },
      "source": [
        "import json\n",
        "Dict = list(zip(correct_filenames, gender, pred))\n",
        "\n",
        "\n",
        "# функция для создания json файла\n",
        "def writeToJSONFile(path, fileName, data):\n",
        "    filePathNameWExt =  path + fileName + '.json'\n",
        "    with open(filePathNameWExt, 'w') as fp:\n",
        "        json.dump(data, fp)\n",
        "\n",
        "writeToJSONFile('/content/drive/My Drive/TEST/', 'results', Dict) "
      ],
      "execution_count": 101,
      "outputs": []
    },
    {
      "cell_type": "code",
      "metadata": {
        "id": "fpXvRilIoz_y",
        "colab_type": "code",
        "colab": {}
      },
      "source": [
        ""
      ],
      "execution_count": null,
      "outputs": []
    }
  ]
}